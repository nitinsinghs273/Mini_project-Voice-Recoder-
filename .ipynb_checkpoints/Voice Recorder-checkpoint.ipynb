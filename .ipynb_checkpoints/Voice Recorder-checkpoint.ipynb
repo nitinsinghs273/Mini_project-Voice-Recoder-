{
 "cells": [
  {
   "cell_type": "code",
   "execution_count": 2,
   "id": "de6da7f7",
   "metadata": {},
   "outputs": [],
   "source": [
    "import sounddevice as sd\n",
    "from scipy.io.wavfile import write"
   ]
  },
  {
   "cell_type": "code",
   "execution_count": 5,
   "id": "b419063c",
   "metadata": {},
   "outputs": [],
   "source": [
    "freq = 44100\n",
    "duration = 5"
   ]
  },
  {
   "cell_type": "code",
   "execution_count": 7,
   "id": "c1eed5ef",
   "metadata": {},
   "outputs": [],
   "source": [
    "recording = sd.rec(int(duration*freq), samplerate=freq, channels=2)\n",
    "sd.wait()\n",
    "write(\"recording0.wav\", freq, recording)"
   ]
  },
  {
   "cell_type": "code",
   "execution_count": null,
   "id": "77eccaa7",
   "metadata": {},
   "outputs": [],
   "source": []
  },
  {
   "cell_type": "code",
   "execution_count": null,
   "id": "012fb557",
   "metadata": {},
   "outputs": [],
   "source": []
  }
 ],
 "metadata": {
  "kernelspec": {
   "display_name": "Python 3 (ipykernel)",
   "language": "python",
   "name": "python3"
  },
  "language_info": {
   "codemirror_mode": {
    "name": "ipython",
    "version": 3
   },
   "file_extension": ".py",
   "mimetype": "text/x-python",
   "name": "python",
   "nbconvert_exporter": "python",
   "pygments_lexer": "ipython3",
   "version": "3.10.1"
  }
 },
 "nbformat": 4,
 "nbformat_minor": 5
}
